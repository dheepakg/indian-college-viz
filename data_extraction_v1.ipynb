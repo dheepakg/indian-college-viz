{
 "cells": [
  {
   "cell_type": "code",
   "execution_count": 1,
   "metadata": {
    "ExecuteTime": {
     "end_time": "2020-09-12T08:44:37.460560Z",
     "start_time": "2020-09-12T08:44:37.053257Z"
    }
   },
   "outputs": [],
   "source": [
    "from bs4 import BeautifulSoup\n",
    "import requests\n",
    "import pandas as pd"
   ]
  },
  {
   "cell_type": "markdown",
   "metadata": {
    "ExecuteTime": {
     "end_time": "2020-08-27T14:57:49.065485Z",
     "start_time": "2020-08-27T14:57:49.055583Z"
    }
   },
   "source": [
    "**University Details are obtained from https://www.nirfindia.org/2020/UniversityRanking.html**"
   ]
  },
  {
   "cell_type": "code",
   "execution_count": 2,
   "metadata": {
    "ExecuteTime": {
     "end_time": "2020-09-12T08:44:37.747291Z",
     "start_time": "2020-09-12T08:44:37.462593Z"
    }
   },
   "outputs": [],
   "source": [
    "# The webpage downloaded to local machine to avoid multiple hit on website\n",
    "\n",
    "university_url = \"\"\"/Users/deegee/Desktop/WorkArea/GitHub/indian-colleges/MHRD, National Institute Ranking Framework (NIRF).htm\"\"\"\n",
    "\n",
    "\n",
    "university_url = \"\"\"./MHRD, National Institute Ranking Framework (NIRF).htm\"\"\"\n",
    "\n",
    "soup = BeautifulSoup(open(university_url), \"html.parser\")\n",
    "\n"
   ]
  },
  {
   "cell_type": "markdown",
   "metadata": {},
   "source": [
    "Reading from website"
   ]
  },
  {
   "cell_type": "code",
   "execution_count": 3,
   "metadata": {
    "ExecuteTime": {
     "end_time": "2020-09-12T08:44:37.755062Z",
     "start_time": "2020-09-12T08:44:37.750863Z"
    }
   },
   "outputs": [],
   "source": [
    "My_table = soup.find('table',{'id':'tbl_overall'})"
   ]
  },
  {
   "cell_type": "markdown",
   "metadata": {
    "ExecuteTime": {
     "end_time": "2020-09-12T08:35:14.945229Z",
     "start_time": "2020-09-12T08:35:14.940844Z"
    }
   },
   "source": [
    "Eventhough, we are fetching **Top 100** University, each university is having 2 table to it, resulting in 300 tables in the webpage"
   ]
  },
  {
   "cell_type": "code",
   "execution_count": 4,
   "metadata": {
    "ExecuteTime": {
     "end_time": "2020-09-12T08:44:37.764445Z",
     "start_time": "2020-09-12T08:44:37.757241Z"
    }
   },
   "outputs": [
    {
     "name": "stdout",
     "output_type": "stream",
     "text": [
      "Number of rows 301\n"
     ]
    }
   ],
   "source": [
    "table_rows = My_table.find_all('tr')\n",
    "print(\"Number of rows {}\".format(len(table_rows)))"
   ]
  },
  {
   "cell_type": "code",
   "execution_count": 5,
   "metadata": {
    "ExecuteTime": {
     "end_time": "2020-09-12T08:44:37.773847Z",
     "start_time": "2020-09-12T08:44:37.769081Z"
    }
   },
   "outputs": [],
   "source": [
    "# end_row = 298\n",
    "# start_row = 1"
   ]
  },
  {
   "cell_type": "code",
   "execution_count": 6,
   "metadata": {
    "ExecuteTime": {
     "end_time": "2020-09-12T08:44:37.780818Z",
     "start_time": "2020-09-12T08:44:37.776342Z"
    }
   },
   "outputs": [],
   "source": [
    "data_list = []\n",
    "for i in range(1,301,3):\n",
    "    data_list.append(table_rows[i])"
   ]
  },
  {
   "cell_type": "code",
   "execution_count": 7,
   "metadata": {
    "ExecuteTime": {
     "end_time": "2020-09-12T08:44:37.787290Z",
     "start_time": "2020-09-12T08:44:37.782809Z"
    }
   },
   "outputs": [],
   "source": [
    "table_rows_td = table_rows[1].find_all('td')"
   ]
  },
  {
   "cell_type": "code",
   "execution_count": 8,
   "metadata": {
    "ExecuteTime": {
     "end_time": "2020-09-12T08:44:37.803435Z",
     "start_time": "2020-09-12T08:44:37.791640Z"
    }
   },
   "outputs": [
    {
     "name": "stdout",
     "output_type": "stream",
     "text": [
      "['IR-O-U-0220', 'Indian Institute of ScienceMore DetailsClose |  | TLR (100)RPC (100)GO (100)OI (100)PERCEPTION (100)82.2292.1682.8952.84100.00', '82.22', '92.16', '82.89', '52.84', '100.00', 'Bengaluru', 'Karnataka', '84.18', '1']\n"
     ]
    }
   ],
   "source": [
    "data_list = []\n",
    "for i in table_rows_td:\n",
    "    data_list.append(i.text)\n",
    "print(data_list)"
   ]
  },
  {
   "cell_type": "code",
   "execution_count": 9,
   "metadata": {
    "ExecuteTime": {
     "end_time": "2020-09-12T08:44:37.823016Z",
     "start_time": "2020-09-12T08:44:37.811263Z"
    }
   },
   "outputs": [],
   "source": [
    "data_list = []\n",
    "for rows in table_rows:\n",
    "    \"\"\"pass each row with td\"\"\"\n",
    "    a = rows.find_all('td')"
   ]
  },
  {
   "cell_type": "code",
   "execution_count": 10,
   "metadata": {
    "ExecuteTime": {
     "end_time": "2020-09-12T08:44:37.837480Z",
     "start_time": "2020-09-12T08:44:37.826611Z"
    }
   },
   "outputs": [],
   "source": [
    "def extract_univ(univ_text):\n",
    "    splitted_data = []\n",
    "    for pos, elem in enumerate(univ_text):\n",
    "        if pos == 1:\n",
    "            split_value = elem.split('|')[0]\n",
    "            splitted_data.append(split_value[0:-18])\n",
    "        else:\n",
    "            splitted_data.append(elem)\n",
    "\n",
    "    return splitted_data"
   ]
  },
  {
   "cell_type": "code",
   "execution_count": 11,
   "metadata": {
    "ExecuteTime": {
     "end_time": "2020-09-12T08:44:37.857826Z",
     "start_time": "2020-09-12T08:44:37.841708Z"
    }
   },
   "outputs": [
    {
     "name": "stdout",
     "output_type": "stream",
     "text": [
      "Total number of rows  100\n"
     ]
    }
   ],
   "source": [
    "data_dict = {}\n",
    "\n",
    "for rows in table_rows:\n",
    "    data_list = []\n",
    "    row = rows.find_all('td')\n",
    "    if len(row)>0:\n",
    "        for element in row:\n",
    "            data_list.append(element.text)\n",
    "        if '|' in str(data_list[1]):\n",
    "            \n",
    "            data_dict[len(data_dict)] = extract_univ(data_list)    \n",
    "            \n",
    "print(\"Total number of rows \",len(data_dict))            "
   ]
  },
  {
   "cell_type": "code",
   "execution_count": 12,
   "metadata": {
    "ExecuteTime": {
     "end_time": "2020-09-12T08:44:37.892387Z",
     "start_time": "2020-09-12T08:44:37.859934Z"
    }
   },
   "outputs": [
    {
     "data": {
      "text/html": [
       "<div>\n",
       "<style scoped>\n",
       "    .dataframe tbody tr th:only-of-type {\n",
       "        vertical-align: middle;\n",
       "    }\n",
       "\n",
       "    .dataframe tbody tr th {\n",
       "        vertical-align: top;\n",
       "    }\n",
       "\n",
       "    .dataframe thead th {\n",
       "        text-align: right;\n",
       "    }\n",
       "</style>\n",
       "<table border=\"1\" class=\"dataframe\">\n",
       "  <thead>\n",
       "    <tr style=\"text-align: right;\">\n",
       "      <th></th>\n",
       "      <th>0</th>\n",
       "      <th>1</th>\n",
       "      <th>2</th>\n",
       "      <th>3</th>\n",
       "      <th>4</th>\n",
       "      <th>5</th>\n",
       "      <th>6</th>\n",
       "      <th>7</th>\n",
       "      <th>8</th>\n",
       "      <th>9</th>\n",
       "      <th>10</th>\n",
       "    </tr>\n",
       "  </thead>\n",
       "  <tbody>\n",
       "    <tr>\n",
       "      <th>0</th>\n",
       "      <td>IR-O-U-0220</td>\n",
       "      <td>Indian Institute of Science</td>\n",
       "      <td>82.22</td>\n",
       "      <td>92.16</td>\n",
       "      <td>82.89</td>\n",
       "      <td>52.84</td>\n",
       "      <td>100.00</td>\n",
       "      <td>Bengaluru</td>\n",
       "      <td>Karnataka</td>\n",
       "      <td>84.18</td>\n",
       "      <td>1</td>\n",
       "    </tr>\n",
       "    <tr>\n",
       "      <th>1</th>\n",
       "      <td>IR-O-U-0109</td>\n",
       "      <td>Jawaharlal Nehru University</td>\n",
       "      <td>74.98</td>\n",
       "      <td>44.80</td>\n",
       "      <td>100.00</td>\n",
       "      <td>75.10</td>\n",
       "      <td>67.24</td>\n",
       "      <td>New Delhi</td>\n",
       "      <td>Delhi</td>\n",
       "      <td>70.16</td>\n",
       "      <td>2</td>\n",
       "    </tr>\n",
       "    <tr>\n",
       "      <th>2</th>\n",
       "      <td>IR-O-U-0500</td>\n",
       "      <td>Banaras Hindu University</td>\n",
       "      <td>70.91</td>\n",
       "      <td>44.89</td>\n",
       "      <td>85.65</td>\n",
       "      <td>58.76</td>\n",
       "      <td>53.99</td>\n",
       "      <td>Varanasi</td>\n",
       "      <td>Uttar Pradesh</td>\n",
       "      <td>63.15</td>\n",
       "      <td>3</td>\n",
       "    </tr>\n",
       "    <tr>\n",
       "      <th>3</th>\n",
       "      <td>IR-O-U-0436</td>\n",
       "      <td>Amrita Vishwa Vidyapeetham</td>\n",
       "      <td>69.65</td>\n",
       "      <td>52.11</td>\n",
       "      <td>73.66</td>\n",
       "      <td>65.83</td>\n",
       "      <td>44.33</td>\n",
       "      <td>Coimbatore</td>\n",
       "      <td>Tamil Nadu</td>\n",
       "      <td>62.27</td>\n",
       "      <td>4</td>\n",
       "    </tr>\n",
       "    <tr>\n",
       "      <th>4</th>\n",
       "      <td>IR-O-U-0575</td>\n",
       "      <td>Jadavpur University</td>\n",
       "      <td>53.38</td>\n",
       "      <td>52.96</td>\n",
       "      <td>90.39</td>\n",
       "      <td>48.67</td>\n",
       "      <td>71.44</td>\n",
       "      <td>Kolkata</td>\n",
       "      <td>West Bengal</td>\n",
       "      <td>61.99</td>\n",
       "      <td>5</td>\n",
       "    </tr>\n",
       "    <tr>\n",
       "      <th>...</th>\n",
       "      <td>...</td>\n",
       "      <td>...</td>\n",
       "      <td>...</td>\n",
       "      <td>...</td>\n",
       "      <td>...</td>\n",
       "      <td>...</td>\n",
       "      <td>...</td>\n",
       "      <td>...</td>\n",
       "      <td>...</td>\n",
       "      <td>...</td>\n",
       "      <td>...</td>\n",
       "    </tr>\n",
       "    <tr>\n",
       "      <th>95</th>\n",
       "      <td>IR-O-U-0366</td>\n",
       "      <td>Utkal University</td>\n",
       "      <td>42.89</td>\n",
       "      <td>11.50</td>\n",
       "      <td>77.12</td>\n",
       "      <td>44.13</td>\n",
       "      <td>39.00</td>\n",
       "      <td>Bhubaneswar</td>\n",
       "      <td>Odisha</td>\n",
       "      <td>40.05</td>\n",
       "      <td>96</td>\n",
       "    </tr>\n",
       "    <tr>\n",
       "      <th>96</th>\n",
       "      <td>IR-O-U-0555</td>\n",
       "      <td>Graphic Era University</td>\n",
       "      <td>55.59</td>\n",
       "      <td>8.36</td>\n",
       "      <td>61.02</td>\n",
       "      <td>59.78</td>\n",
       "      <td>26.73</td>\n",
       "      <td>Dehradun</td>\n",
       "      <td>Uttarakhand</td>\n",
       "      <td>40.04</td>\n",
       "      <td>97</td>\n",
       "    </tr>\n",
       "    <tr>\n",
       "      <th>97</th>\n",
       "      <td>IR-O-U-0451</td>\n",
       "      <td>Chettinad Academy of Research and Education</td>\n",
       "      <td>70.68</td>\n",
       "      <td>5.16</td>\n",
       "      <td>48.45</td>\n",
       "      <td>56.63</td>\n",
       "      <td>18.74</td>\n",
       "      <td>Kanchipuram District</td>\n",
       "      <td>Tamil Nadu</td>\n",
       "      <td>39.97</td>\n",
       "      <td>98</td>\n",
       "    </tr>\n",
       "    <tr>\n",
       "      <th>98</th>\n",
       "      <td>IR-O-U-0164</td>\n",
       "      <td>Kurukshetra University</td>\n",
       "      <td>49.89</td>\n",
       "      <td>9.95</td>\n",
       "      <td>68.15</td>\n",
       "      <td>48.88</td>\n",
       "      <td>33.21</td>\n",
       "      <td>Kurukshetra</td>\n",
       "      <td>Haryana</td>\n",
       "      <td>39.79</td>\n",
       "      <td>99</td>\n",
       "    </tr>\n",
       "    <tr>\n",
       "      <th>99</th>\n",
       "      <td>IR-O-U-0043</td>\n",
       "      <td>Vignan's Foundation for Science, Technology &amp; ...</td>\n",
       "      <td>57.39</td>\n",
       "      <td>8.36</td>\n",
       "      <td>60.60</td>\n",
       "      <td>58.11</td>\n",
       "      <td>20.52</td>\n",
       "      <td>Guntur</td>\n",
       "      <td>Andhra Pradesh</td>\n",
       "      <td>39.71</td>\n",
       "      <td>100</td>\n",
       "    </tr>\n",
       "  </tbody>\n",
       "</table>\n",
       "<p>100 rows × 11 columns</p>\n",
       "</div>"
      ],
      "text/plain": [
       "              0                                                  1      2  \\\n",
       "0   IR-O-U-0220                        Indian Institute of Science  82.22   \n",
       "1   IR-O-U-0109                        Jawaharlal Nehru University  74.98   \n",
       "2   IR-O-U-0500                           Banaras Hindu University  70.91   \n",
       "3   IR-O-U-0436                         Amrita Vishwa Vidyapeetham  69.65   \n",
       "4   IR-O-U-0575                                Jadavpur University  53.38   \n",
       "..          ...                                                ...    ...   \n",
       "95  IR-O-U-0366                                   Utkal University  42.89   \n",
       "96  IR-O-U-0555                             Graphic Era University  55.59   \n",
       "97  IR-O-U-0451       Chettinad Academy of Research and Education   70.68   \n",
       "98  IR-O-U-0164                             Kurukshetra University  49.89   \n",
       "99  IR-O-U-0043  Vignan's Foundation for Science, Technology & ...  57.39   \n",
       "\n",
       "        3       4      5       6                     7               8      9  \\\n",
       "0   92.16   82.89  52.84  100.00             Bengaluru       Karnataka  84.18   \n",
       "1   44.80  100.00  75.10   67.24             New Delhi           Delhi  70.16   \n",
       "2   44.89   85.65  58.76   53.99              Varanasi   Uttar Pradesh  63.15   \n",
       "3   52.11   73.66  65.83   44.33            Coimbatore      Tamil Nadu  62.27   \n",
       "4   52.96   90.39  48.67   71.44               Kolkata     West Bengal  61.99   \n",
       "..    ...     ...    ...     ...                   ...             ...    ...   \n",
       "95  11.50   77.12  44.13   39.00           Bhubaneswar          Odisha  40.05   \n",
       "96   8.36   61.02  59.78   26.73              Dehradun     Uttarakhand  40.04   \n",
       "97   5.16   48.45  56.63   18.74  Kanchipuram District      Tamil Nadu  39.97   \n",
       "98   9.95   68.15  48.88   33.21           Kurukshetra         Haryana  39.79   \n",
       "99   8.36   60.60  58.11   20.52                Guntur  Andhra Pradesh  39.71   \n",
       "\n",
       "     10  \n",
       "0     1  \n",
       "1     2  \n",
       "2     3  \n",
       "3     4  \n",
       "4     5  \n",
       "..  ...  \n",
       "95   96  \n",
       "96   97  \n",
       "97   98  \n",
       "98   99  \n",
       "99  100  \n",
       "\n",
       "[100 rows x 11 columns]"
      ]
     },
     "execution_count": 12,
     "metadata": {},
     "output_type": "execute_result"
    }
   ],
   "source": [
    "df = pd.DataFrame(data_dict.values())\n",
    "df"
   ]
  },
  {
   "cell_type": "code",
   "execution_count": 13,
   "metadata": {
    "ExecuteTime": {
     "end_time": "2020-09-12T08:44:37.912113Z",
     "start_time": "2020-09-12T08:44:37.894336Z"
    }
   },
   "outputs": [
    {
     "data": {
      "text/html": [
       "<div>\n",
       "<style scoped>\n",
       "    .dataframe tbody tr th:only-of-type {\n",
       "        vertical-align: middle;\n",
       "    }\n",
       "\n",
       "    .dataframe tbody tr th {\n",
       "        vertical-align: top;\n",
       "    }\n",
       "\n",
       "    .dataframe thead th {\n",
       "        text-align: right;\n",
       "    }\n",
       "</style>\n",
       "<table border=\"1\" class=\"dataframe\">\n",
       "  <thead>\n",
       "    <tr style=\"text-align: right;\">\n",
       "      <th></th>\n",
       "      <th>University</th>\n",
       "      <th>City</th>\n",
       "      <th>State</th>\n",
       "      <th>Score</th>\n",
       "      <th>Ranking</th>\n",
       "    </tr>\n",
       "  </thead>\n",
       "  <tbody>\n",
       "    <tr>\n",
       "      <th>0</th>\n",
       "      <td>Indian Institute of Science</td>\n",
       "      <td>Bengaluru</td>\n",
       "      <td>Karnataka</td>\n",
       "      <td>84.18</td>\n",
       "      <td>1</td>\n",
       "    </tr>\n",
       "    <tr>\n",
       "      <th>1</th>\n",
       "      <td>Jawaharlal Nehru University</td>\n",
       "      <td>New Delhi</td>\n",
       "      <td>Delhi</td>\n",
       "      <td>70.16</td>\n",
       "      <td>2</td>\n",
       "    </tr>\n",
       "    <tr>\n",
       "      <th>2</th>\n",
       "      <td>Banaras Hindu University</td>\n",
       "      <td>Varanasi</td>\n",
       "      <td>Uttar Pradesh</td>\n",
       "      <td>63.15</td>\n",
       "      <td>3</td>\n",
       "    </tr>\n",
       "    <tr>\n",
       "      <th>3</th>\n",
       "      <td>Amrita Vishwa Vidyapeetham</td>\n",
       "      <td>Coimbatore</td>\n",
       "      <td>Tamil Nadu</td>\n",
       "      <td>62.27</td>\n",
       "      <td>4</td>\n",
       "    </tr>\n",
       "    <tr>\n",
       "      <th>4</th>\n",
       "      <td>Jadavpur University</td>\n",
       "      <td>Kolkata</td>\n",
       "      <td>West Bengal</td>\n",
       "      <td>61.99</td>\n",
       "      <td>5</td>\n",
       "    </tr>\n",
       "    <tr>\n",
       "      <th>...</th>\n",
       "      <td>...</td>\n",
       "      <td>...</td>\n",
       "      <td>...</td>\n",
       "      <td>...</td>\n",
       "      <td>...</td>\n",
       "    </tr>\n",
       "    <tr>\n",
       "      <th>95</th>\n",
       "      <td>Utkal University</td>\n",
       "      <td>Bhubaneswar</td>\n",
       "      <td>Odisha</td>\n",
       "      <td>40.05</td>\n",
       "      <td>96</td>\n",
       "    </tr>\n",
       "    <tr>\n",
       "      <th>96</th>\n",
       "      <td>Graphic Era University</td>\n",
       "      <td>Dehradun</td>\n",
       "      <td>Uttarakhand</td>\n",
       "      <td>40.04</td>\n",
       "      <td>97</td>\n",
       "    </tr>\n",
       "    <tr>\n",
       "      <th>97</th>\n",
       "      <td>Chettinad Academy of Research and Education</td>\n",
       "      <td>Kanchipuram District</td>\n",
       "      <td>Tamil Nadu</td>\n",
       "      <td>39.97</td>\n",
       "      <td>98</td>\n",
       "    </tr>\n",
       "    <tr>\n",
       "      <th>98</th>\n",
       "      <td>Kurukshetra University</td>\n",
       "      <td>Kurukshetra</td>\n",
       "      <td>Haryana</td>\n",
       "      <td>39.79</td>\n",
       "      <td>99</td>\n",
       "    </tr>\n",
       "    <tr>\n",
       "      <th>99</th>\n",
       "      <td>Vignan's Foundation for Science, Technology &amp; ...</td>\n",
       "      <td>Guntur</td>\n",
       "      <td>Andhra Pradesh</td>\n",
       "      <td>39.71</td>\n",
       "      <td>100</td>\n",
       "    </tr>\n",
       "  </tbody>\n",
       "</table>\n",
       "<p>100 rows × 5 columns</p>\n",
       "</div>"
      ],
      "text/plain": [
       "                                           University                  City  \\\n",
       "0                         Indian Institute of Science             Bengaluru   \n",
       "1                         Jawaharlal Nehru University             New Delhi   \n",
       "2                            Banaras Hindu University              Varanasi   \n",
       "3                          Amrita Vishwa Vidyapeetham            Coimbatore   \n",
       "4                                 Jadavpur University               Kolkata   \n",
       "..                                                ...                   ...   \n",
       "95                                   Utkal University           Bhubaneswar   \n",
       "96                             Graphic Era University              Dehradun   \n",
       "97       Chettinad Academy of Research and Education   Kanchipuram District   \n",
       "98                             Kurukshetra University           Kurukshetra   \n",
       "99  Vignan's Foundation for Science, Technology & ...                Guntur   \n",
       "\n",
       "             State  Score Ranking  \n",
       "0        Karnataka  84.18       1  \n",
       "1            Delhi  70.16       2  \n",
       "2    Uttar Pradesh  63.15       3  \n",
       "3       Tamil Nadu  62.27       4  \n",
       "4      West Bengal  61.99       5  \n",
       "..             ...    ...     ...  \n",
       "95          Odisha  40.05      96  \n",
       "96     Uttarakhand  40.04      97  \n",
       "97      Tamil Nadu  39.97      98  \n",
       "98         Haryana  39.79      99  \n",
       "99  Andhra Pradesh  39.71     100  \n",
       "\n",
       "[100 rows x 5 columns]"
      ]
     },
     "execution_count": 13,
     "metadata": {},
     "output_type": "execute_result"
    }
   ],
   "source": [
    "selected_df = df[[1,7,8,9,10]]\n",
    "selected_df.columns = [\"University\",\"City\",\"State\",\"Score\",\"Ranking\"]\n",
    "selected_df"
   ]
  },
  {
   "cell_type": "code",
   "execution_count": 14,
   "metadata": {
    "ExecuteTime": {
     "end_time": "2020-09-12T08:44:37.944191Z",
     "start_time": "2020-09-12T08:44:37.914588Z"
    }
   },
   "outputs": [
    {
     "data": {
      "text/plain": [
       "array([('State', 'Univ Count')], dtype=object)"
      ]
     },
     "execution_count": 14,
     "metadata": {},
     "output_type": "execute_result"
    }
   ],
   "source": [
    "top_univ_df = selected_df[['State','University']].groupby('State').agg(['count'])\n",
    "top_univ_df = top_univ_df.rename(columns = {'University':'State', 'count':'Univ Count'})\n",
    "top_univ_df.columns.values"
   ]
  },
  {
   "cell_type": "code",
   "execution_count": 15,
   "metadata": {
    "ExecuteTime": {
     "end_time": "2020-09-12T08:44:37.953641Z",
     "start_time": "2020-09-12T08:44:37.946552Z"
    }
   },
   "outputs": [
    {
     "data": {
      "text/plain": [
       "MultiIndex([('State', 'Univ Count')],\n",
       "           )"
      ]
     },
     "execution_count": 15,
     "metadata": {},
     "output_type": "execute_result"
    }
   ],
   "source": [
    "top_univ_df.columns"
   ]
  },
  {
   "cell_type": "code",
   "execution_count": 16,
   "metadata": {
    "ExecuteTime": {
     "end_time": "2020-09-12T08:44:37.971981Z",
     "start_time": "2020-09-12T08:44:37.956097Z"
    }
   },
   "outputs": [],
   "source": [
    "file_name = 'top_univ_state.csv'\n",
    "top_univ_df.to_csv(file_name, sep='|', encoding='utf-8')"
   ]
  }
 ],
 "metadata": {
  "kernelspec": {
   "display_name": "Python 3",
   "language": "python",
   "name": "python3"
  },
  "language_info": {
   "codemirror_mode": {
    "name": "ipython",
    "version": 3
   },
   "file_extension": ".py",
   "mimetype": "text/x-python",
   "name": "python",
   "nbconvert_exporter": "python",
   "pygments_lexer": "ipython3",
   "version": "3.8.5"
  },
  "toc": {
   "base_numbering": 1,
   "nav_menu": {},
   "number_sections": true,
   "sideBar": true,
   "skip_h1_title": false,
   "title_cell": "Table of Contents",
   "title_sidebar": "Contents",
   "toc_cell": false,
   "toc_position": {},
   "toc_section_display": true,
   "toc_window_display": false
  }
 },
 "nbformat": 4,
 "nbformat_minor": 4
}
